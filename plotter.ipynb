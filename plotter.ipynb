{
 "cells": [
  {
   "cell_type": "code",
   "execution_count": null,
   "metadata": {},
   "outputs": [],
   "source": [
    "# Sources\n",
    "# Implementation adapted from: \n",
    "# [1] https://deparkes.co.uk/2021/09/05/python-timeline-plot/\n",
    "# [2] https://matplotlib.org/stable/gallery/lines_bars_and_markers/broken_barh.html\n",
    "\n",
    "# Imports \n",
    "import matplotlib.pyplot as plt\n",
    "import numpy as np\n",
    "import pandas as pd\n",
    "\n",
    "# Plot configuration constants\n",
    "WIDTH = 1/3\n",
    "offset = WIDTH"
   ]
  },
  {
   "cell_type": "code",
   "execution_count": null,
   "metadata": {},
   "outputs": [],
   "source": [
    "source = pd.read_csv(\"./books.csv\")\n",
    "\n",
    "source['start'] = pd.to_datetime(source['start'])\n",
    "source['end'] = pd.to_datetime(source['end'])\n",
    "source['diff'] = source['end'] - source['start']\n",
    "source['series'] = source['series'].fillna(\"-\")\n",
    "source"
   ]
  },
  {
   "cell_type": "code",
   "execution_count": null,
   "metadata": {},
   "outputs": [],
   "source": [
    "# Convert dates to a floating point representation of the year from Unix seconds timestamp\n",
    "source.start = source.start.map(lambda x: (x.timestamp()/(3600*24*365))+1970)"
   ]
  },
  {
   "cell_type": "code",
   "execution_count": null,
   "metadata": {},
   "outputs": [],
   "source": [
    "def checkCollision(a,b):\n",
    "    # checks if the two elements have a non-zero intersect, returning true if they do\n",
    "\n",
    "    # setup\n",
    "    a_s = a['start']\n",
    "    a_e = a_s + a['duration']\n",
    "    a_se = a_s + len(a['name']) * 1/10  # string ending, to avoid overlapping duplication\n",
    "\n",
    "    b_s = b['start']\n",
    "    b_e = b_s + b['duration']\n",
    "    b_se = b_s + len(b['name']) * 1/10  # string ending, to avoid overlapping duplication\n",
    "\n",
    "    # If one element starts after the other ends, we're good\n",
    "    if a_s > b_e and a_s > b_se:     # Make sure both have been passed to consider risk done\n",
    "        return False\n",
    "    if b_s > a_e and b_s > a_se:\n",
    "        return False\n",
    "    \n",
    "    # if one event hasn't ended by the time that the next one has started,\n",
    "    # there is a collision\n",
    "    return True"
   ]
  },
  {
   "cell_type": "code",
   "execution_count": null,
   "metadata": {},
   "outputs": [],
   "source": [
    "# Group tables by common series\n",
    "series_groups = {}\n",
    "series_data = {}\n",
    "series_idx = {}\n",
    "idx = -1\n",
    "\n",
    "y_ticks = []\n",
    "position = 0\n",
    "\n",
    "for series in source.series.unique():\n",
    "    idx+=1\n",
    "    series_groups[series] = source[source.series == series]   # sg[s] = data | where {$_.series = series}\n",
    "\n",
    "    series_data[series] = []\n",
    "    series_idx[series] = idx\n",
    "\n",
    "    max_offset = 0\n",
    "    y_ticks.append(position)\n",
    "\n",
    "    for i, row in series_groups[series].sort_values(by='start').reset_index().iterrows():\n",
    "        submit_data = {\n",
    "            \"start\": row.start,\n",
    "            \"duration\": row['diff'].days/365,\n",
    "            \"name\": row['name'].strip(),\n",
    "            \"position\": position\n",
    "        }\n",
    "\n",
    "        # Adjust submit_data by offsetting for any other matching elements in the series\n",
    "        collisions = [d for d in series_data[series] if d[\"position\"] == submit_data[\"position\"] and checkCollision(d, submit_data)]\n",
    "        while len(collisions) != 0:\n",
    "            c = collisions[0]\n",
    "            print(f\"input point '{submit_data['name']}' ({round(submit_data['start'],3)}, {round(submit_data['start'] + submit_data['duration'],3)})\", \"\\tcollided with:\", f\"'{c['name']}' ({round(c['start'],3)}, {round(c['start'] + c['duration'],3)})\")\n",
    "            submit_data['position'] += offset\n",
    "            collisions = [d for d in series_data[series] if d[\"position\"] == submit_data[\"position\"] and checkCollision(d, submit_data)]\n",
    "\n",
    "        # Track the farthest out of alignment that this series has come\n",
    "        max_offset = max(submit_data['position'] - position, max_offset)\n",
    "\n",
    "        # Add the element\n",
    "        series_data[series].append(submit_data)\n",
    "\n",
    "    # move it up!\n",
    "    position += 1.5 * offset + max_offset"
   ]
  },
  {
   "cell_type": "code",
   "execution_count": null,
   "metadata": {},
   "outputs": [],
   "source": [
    "# next 5 directly from the source [1], except y_tick_labels\n",
    "fig, gnt = plt.subplots(figsize=(16,9)) \n",
    "y_tick_labels = source.series.unique()\n",
    "gnt.set_yticks(y_ticks)\n",
    "gnt.set_yticklabels(y_tick_labels)\n",
    "\n",
    "def get_color():\n",
    "    colors = [\n",
    "        'orange', 'lightgreen', 'lightblue', 'tan', 'yellow'\n",
    "    ]\n",
    "    return np.random.choice(colors)\n",
    "\n",
    "for series in source.series.unique():\n",
    "    for row in series_data[series]:\n",
    "        gnt.broken_barh([(row['start'], row['duration'])], \n",
    "                        (row['position'] - WIDTH/2, WIDTH), \n",
    "                        facecolors = get_color(),\n",
    "                        label=row['name'])\n",
    "        gnt.text(row['start'], row['position'] - WIDTH/20, row['name'])"
   ]
  },
  {
   "cell_type": "code",
   "execution_count": null,
   "metadata": {},
   "outputs": [],
   "source": []
  }
 ],
 "metadata": {
  "kernelspec": {
   "display_name": "Python 3",
   "language": "python",
   "name": "python3"
  },
  "language_info": {
   "codemirror_mode": {
    "name": "ipython",
    "version": 3
   },
   "file_extension": ".py",
   "mimetype": "text/x-python",
   "name": "python",
   "nbconvert_exporter": "python",
   "pygments_lexer": "ipython3",
   "version": "3.11.3"
  }
 },
 "nbformat": 4,
 "nbformat_minor": 2
}
